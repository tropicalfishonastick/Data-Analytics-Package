{
 "cells": [
  {
   "cell_type": "markdown",
   "metadata": {},
   "source": [
    "### Working with the Response Dictionary"
   ]
  },
  {
   "cell_type": "code",
   "execution_count": 2,
   "metadata": {},
   "outputs": [
    {
     "name": "stdout",
     "output_type": "stream",
     "text": [
      "Status code: 200\n",
      "Total repositories: 402\n",
      "Complete results: True\n",
      "Repositories returned: 30\n",
      "\n",
      "Keys: 80\n",
      "allow_forking\n",
      "archive_url\n",
      "archived\n",
      "assignees_url\n",
      "blobs_url\n",
      "branches_url\n",
      "clone_url\n",
      "collaborators_url\n",
      "comments_url\n",
      "commits_url\n",
      "compare_url\n",
      "contents_url\n",
      "contributors_url\n",
      "created_at\n",
      "default_branch\n",
      "deployments_url\n",
      "description\n",
      "disabled\n",
      "downloads_url\n",
      "events_url\n",
      "fork\n",
      "forks\n",
      "forks_count\n",
      "forks_url\n",
      "full_name\n",
      "git_commits_url\n",
      "git_refs_url\n",
      "git_tags_url\n",
      "git_url\n",
      "has_discussions\n",
      "has_downloads\n",
      "has_issues\n",
      "has_pages\n",
      "has_projects\n",
      "has_wiki\n",
      "homepage\n",
      "hooks_url\n",
      "html_url\n",
      "id\n",
      "is_template\n",
      "issue_comment_url\n",
      "issue_events_url\n",
      "issues_url\n",
      "keys_url\n",
      "labels_url\n",
      "language\n",
      "languages_url\n",
      "license\n",
      "merges_url\n",
      "milestones_url\n",
      "mirror_url\n",
      "name\n",
      "node_id\n",
      "notifications_url\n",
      "open_issues\n",
      "open_issues_count\n",
      "owner\n",
      "private\n",
      "pulls_url\n",
      "pushed_at\n",
      "releases_url\n",
      "score\n",
      "size\n",
      "ssh_url\n",
      "stargazers_count\n",
      "stargazers_url\n",
      "statuses_url\n",
      "subscribers_url\n",
      "subscription_url\n",
      "svn_url\n",
      "tags_url\n",
      "teams_url\n",
      "topics\n",
      "trees_url\n",
      "updated_at\n",
      "url\n",
      "visibility\n",
      "watchers\n",
      "watchers_count\n",
      "web_commit_signoff_required\n"
     ]
    }
   ],
   "source": [
    "import requests\n",
    "# Make an API call and store the response.\n",
    "url = \"https://api.github.com/search/repositories\"\n",
    "url += \"?q=language:python+sort:stars+stars:>10000\"\n",
    "headers = {\"Accept\": \"application/vnd.github.v3+json\"}\n",
    "r = requests.get(url, headers=headers)\n",
    "print(f\"Status code: {r.status_code}\")\n",
    "\n",
    "# Convert the response object to a dictionary.\n",
    "response_dict = r.json()\n",
    "print(f\"Total repositories: {response_dict['total_count']}\")\n",
    "print(f\"Complete results: {not response_dict['incomplete_results']}\")\n",
    "# Explore information about the repositories.\n",
    "repo_dicts = response_dict['items']\n",
    "print(f\"Repositories returned: {len(repo_dicts)}\")\n",
    "# Examine the first repository.\n",
    "repo_dict = repo_dicts[0]\n",
    "print(f\"\\nKeys: {len(repo_dict)}\")\n",
    "for key in sorted(repo_dict.keys()):\n",
    "    print(key)"
   ]
  },
  {
   "cell_type": "code",
   "execution_count": 3,
   "metadata": {},
   "outputs": [
    {
     "name": "stdout",
     "output_type": "stream",
     "text": [
      "\n",
      "Selected information about first repository:\n",
      "Name: public-apis\n",
      "Owner: public-apis\n",
      "Stars: 255495\n",
      "Repository: https://github.com/public-apis/public-apis\n",
      "Created: 2016-03-20T23:49:42Z\n",
      "Updated: 2023-09-11T18:39:25Z\n",
      "Description: A collective list of free APIs\n"
     ]
    }
   ],
   "source": [
    "print(\"\\nSelected information about first repository:\")\n",
    "print(f\"Name: {repo_dict['name']}\")\n",
    "print(f\"Owner: {repo_dict['owner']['login']}\")\n",
    "print(f\"Stars: {repo_dict['stargazers_count']}\")\n",
    "print(f\"Repository: {repo_dict['html_url']}\")\n",
    "print(f\"Created: {repo_dict['created_at']}\")\n",
    "print(f\"Updated: {repo_dict['updated_at']}\")\n",
    "print(f\"Description: {repo_dict['description']}\")"
   ]
  }
 ],
 "metadata": {
  "kernelspec": {
   "display_name": "Python 3",
   "language": "python",
   "name": "python3"
  },
  "language_info": {
   "codemirror_mode": {
    "name": "ipython",
    "version": 3
   },
   "file_extension": ".py",
   "mimetype": "text/x-python",
   "name": "python",
   "nbconvert_exporter": "python",
   "pygments_lexer": "ipython3",
   "version": "3.11.1"
  },
  "orig_nbformat": 4
 },
 "nbformat": 4,
 "nbformat_minor": 2
}
