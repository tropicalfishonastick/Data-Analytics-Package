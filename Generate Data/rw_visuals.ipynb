{
 "cells": [
  {
   "cell_type": "code",
   "execution_count": 8,
   "metadata": {},
   "outputs": [
    {
     "ename": "ModuleNotFoundError",
     "evalue": "No module named 'random_walk'",
     "output_type": "error",
     "traceback": [
      "\u001b[1;31m---------------------------------------------------------------------------\u001b[0m",
      "\u001b[1;31mModuleNotFoundError\u001b[0m                       Traceback (most recent call last)",
      "\u001b[1;32mc:\\Users\\Ayushi Tripathi\\OneDrive\\Documents\\Github\\Data-Analytics-Package\\Generate Data\\rw_visuals.ipynb Cell 1\u001b[0m line \u001b[0;36m5\n\u001b[0;32m      <a href='vscode-notebook-cell:/c%3A/Users/Ayushi%20Tripathi/OneDrive/Documents/Github/Data-Analytics-Package/Generate%20Data/rw_visuals.ipynb#W0sZmlsZQ%3D%3D?line=1'>2</a>\u001b[0m \u001b[39mimport\u001b[39;00m \u001b[39msys\u001b[39;00m\n\u001b[0;32m      <a href='vscode-notebook-cell:/c%3A/Users/Ayushi%20Tripathi/OneDrive/Documents/Github/Data-Analytics-Package/Generate%20Data/rw_visuals.ipynb#W0sZmlsZQ%3D%3D?line=2'>3</a>\u001b[0m sys\u001b[39m.\u001b[39mpath\u001b[39m.\u001b[39mappend(\u001b[39m\"\u001b[39m\u001b[39mC:/Users/Ayushi Tripathi/OneDrive/Documents/Github/Data-Analytics-Package/Generate Data/Random Walk\u001b[39m\u001b[39m\"\u001b[39m)\n\u001b[1;32m----> <a href='vscode-notebook-cell:/c%3A/Users/Ayushi%20Tripathi/OneDrive/Documents/Github/Data-Analytics-Package/Generate%20Data/rw_visuals.ipynb#W0sZmlsZQ%3D%3D?line=4'>5</a>\u001b[0m \u001b[39mfrom\u001b[39;00m \u001b[39mrandom_walk\u001b[39;00m \u001b[39mimport\u001b[39;00m RandomWalk\n\u001b[0;32m      <a href='vscode-notebook-cell:/c%3A/Users/Ayushi%20Tripathi/OneDrive/Documents/Github/Data-Analytics-Package/Generate%20Data/rw_visuals.ipynb#W0sZmlsZQ%3D%3D?line=7'>8</a>\u001b[0m \u001b[39m# Make a random walk.\u001b[39;00m\n\u001b[0;32m      <a href='vscode-notebook-cell:/c%3A/Users/Ayushi%20Tripathi/OneDrive/Documents/Github/Data-Analytics-Package/Generate%20Data/rw_visuals.ipynb#W0sZmlsZQ%3D%3D?line=8'>9</a>\u001b[0m rw \u001b[39m=\u001b[39m RandomWalk()\n",
      "\u001b[1;31mModuleNotFoundError\u001b[0m: No module named 'random_walk'"
     ]
    }
   ],
   "source": [
    "import matplotlib.pyplot as plt\n",
    "import sys\n",
    "sys.path.append(\"C:/Users/Ayushi Tripathi/OneDrive/Documents/Github/Data-Analytics-Package/Generate Data/Random Walk\")\n",
    "\n",
    "from random_walk import RandomWalk\n",
    "\n",
    "\n",
    "# Make a random walk.\n",
    "rw = RandomWalk()\n",
    "rw.fill_walk()\n",
    "\n",
    "# Plot the points in the walk.\n",
    "plt.style.use('classic')\n",
    "fig, ax = plt.subplots()\n",
    "ax.scatter(rw.x_values, rw.y_values, s=15)\n",
    "ax.set_aspect('equal')\n",
    "plt.show()\n"
   ]
  }
 ],
 "metadata": {
  "kernelspec": {
   "display_name": "Python 3",
   "language": "python",
   "name": "python3"
  },
  "language_info": {
   "codemirror_mode": {
    "name": "ipython",
    "version": 3
   },
   "file_extension": ".py",
   "mimetype": "text/x-python",
   "name": "python",
   "nbconvert_exporter": "python",
   "pygments_lexer": "ipython3",
   "version": "3.11.1"
  },
  "orig_nbformat": 4
 },
 "nbformat": 4,
 "nbformat_minor": 2
}
