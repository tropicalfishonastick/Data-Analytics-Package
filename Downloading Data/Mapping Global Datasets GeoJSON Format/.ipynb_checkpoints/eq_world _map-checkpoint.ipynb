{
 "cells": [
  {
   "cell_type": "code",
   "execution_count": 3,
   "metadata": {},
   "outputs": [
    {
     "data": {
      "application/vnd.plotly.v1+json": {
       "config": {
        "plotlyServerURL": "https://plot.ly"
       },
       "data": [
        {
         "geo": "geo",
         "hovertemplate": "lat=%{lat}<br>lon=%{lon}<extra></extra>",
         "lat": [
          61.7591,
          59.3152,
          63.1633,
          54.5612,
          18.7551670074463,
          62.3994,
          36.3592,
          -6.686,
          62.9779,
          63.671,
          60.2138,
          1.7827,
          62.8383,
          38.1911,
          10.6172,
          34.0223333,
          65.6749,
          36.6408348,
          17.9403333333333,
          34.0358333,
          57.0429,
          34.1478333,
          65.7868,
          38.788166,
          33.4873333,
          23.1392,
          40.133,
          38.8330002,
          61.3358,
          34.1458333,
          56.4973,
          33.9961667,
          38.8375015,
          38.0322,
          46.6085,
          60.2597,
          -22.4542,
          37.2714996,
          -22.5126,
          18.0228,
          14.0047,
          18.7840003967285,
          36.5928,
          62.7581,
          38.7890015,
          19.1723327636719,
          17.9616666666667,
          32.3988333,
          62.9998,
          35.40652466,
          19.2148342132568,
          34.4295,
          18.7806663513184,
          37.6073341,
          38.8364983,
          18.844165802002,
          18.8145008087158,
          -57.4218,
          18.871000289917,
          18.053,
          37.3801651,
          -15.7921,
          33.851,
          59.4819,
          -41.1132,
          17.9673333333333,
          18.8893337249756,
          59.7672,
          -22.7765,
          46.608666666666664,
          9.3085,
          -22.9375,
          33.9833333,
          33.9591667,
          39.571,
          38.831665,
          38.1459999,
          60.0022,
          64.4417,
          35.42264175,
          61.0573,
          49.8554,
          -4.4681,
          38.1469,
          34.4469,
          60.1086,
          38.6049995,
          38.1895,
          33.4828333,
          49.4355,
          61.363,
          35.6796667,
          17.9166666666667,
          35.634,
          26.8575,
          34.8471667,
          19.2016658782959,
          9.1837,
          61.2685,
          34.8325,
          33.9111667,
          60.1066,
          36.008,
          60.0076,
          38.1642,
          19.1723327636719,
          17.9766666666667,
          63.1835,
          17.9313333333333,
          0.7303,
          38.229,
          63.2786,
          18.0216666666667,
          19.15016746521,
          33.8415,
          33.2116667,
          64.2826,
          35.62977219,
          17.9536666666667,
          19.2198333740234,
          37.2803333,
          9.2613,
          62.834,
          17.9876666666667,
          35.63026047,
          19.1965007781982,
          9.2256,
          34.9351667,
          38.1247,
          18.8588333129883,
          19.2098331451416,
          59.645,
          61.8753,
          -22.0803,
          35.0381667,
          62.7912,
          62.2087,
          61.951,
          35.39769745,
          26.526,
          36.1055,
          26.8007,
          35.2976667,
          61.4567,
          17.9888,
          36.1043333,
          35.65401077,
          34.018,
          38.2105,
          61.815,
          59.41,
          62.7391,
          46.428,
          37.799,
          46.871,
          33.4948333,
          17.9311666666667,
          54.6414,
          38.0496667,
          33.5846667
         ],
         "legendgroup": "",
         "lon": [
          -150.7585,
          -153.4716,
          -148.7531,
          -159.6267,
          -155.248336791992,
          -149.173,
          22.0768,
          129.5079,
          -150.5896,
          -145.9089,
          -141.4547,
          127.3132,
          -148.8272,
          -117.7935,
          140.7506,
          -117.153,
          -145.4421,
          -121.2634964,
          -66.9111666666667,
          -117.2585,
          -155.6147,
          -116.7213333,
          -149.8307,
          -122.7611694,
          -116.5603333,
          120.5613,
          -119.6498,
          -122.8125,
          -148.1118,
          -116.7225,
          -149.5698,
          -117.6645,
          -122.8128357,
          -117.8823,
          -119.85066666666667,
          -152.1079,
          169.9229,
          -121.6484985,
          170.0243,
          -66.7635,
          -92.4289,
          -155.164993286133,
          70.9912,
          -148.6377,
          -122.7259979,
          -155.468338012695,
          -66.9825,
          -115.2618333,
          -151.0452,
          -97.87510681,
          -155.471664428711,
          -106.8323,
          -155.249328613281,
          -121.6518326,
          -122.809166,
          -155.20133972168,
          -155.196838378906,
          -25.2674,
          -155.201507568359,
          -66.0613333333333,
          -118.6138306,
          -173.0821,
          -118.3441667,
          -153.1899,
          -90.2955,
          -66.8163333333333,
          -155.223831176758,
          -153.0568,
          170.0847,
          -119.851,
          126.6017,
          170.0666,
          -117.8606667,
          -118.0525,
          -119.0627,
          -122.8151703,
          -122.4605026,
          -152.0841,
          -148.0019,
          -97.87393951,
          -152.4105,
          155.733,
          -76.9306,
          -117.9906,
          -106.8794,
          -151.1797,
          -121.9348297,
          -117.797,
          -116.5668333,
          144.3998,
          -151.7855,
          -117.54,
          -66.8848333333333,
          -117.5738333,
          126.5138,
          -118.9135,
          -155.495498657227,
          126.6103,
          -146.8972,
          -118.9733333,
          -117.78,
          -147.7583,
          69.8183,
          -152.79,
          -117.983,
          -155.473327636719,
          -67.0445,
          -150.2319,
          -67.0065,
          99.8701,
          -117.8619,
          -150.5417,
          -66.7698333333333,
          -155.369003295898,
          -116.751,
          -116.7571667,
          -149.8615,
          -97.95739746,
          -66.8751666666667,
          -155.382827758789,
          -118.3951667,
          126.6898,
          -148.391,
          -66.9738333333333,
          -97.97806549,
          -155.385162353516,
          126.6692,
          -116.7038333,
          -117.9977,
          -155.22216796875,
          -155.406326293945,
          -152.2639,
          -149.4109,
          -68.5779,
          -116.9765,
          -148.4051,
          -149.517,
          -149.1666,
          -97.88280487,
          126.4621,
          -117.8855,
          126.4309,
          -118.5718333,
          -150.8127,
          -67.0016,
          -117.8861667,
          -97.91881561,
          -117.1735,
          -117.8612,
          -149.9064,
          -153.2027,
          -149.8562,
          -121.63783333333333,
          69.4435,
          -112.5198333,
          -116.501,
          -66.8955,
          -161.2079,
          -122.9035,
          -116.8085
         ],
         "marker": {
          "color": "#636efa",
          "symbol": "circle"
         },
         "mode": "markers",
         "name": "",
         "showlegend": false,
         "type": "scattergeo"
        }
       ],
       "layout": {
        "autosize": true,
        "geo": {
         "center": {},
         "domain": {
          "x": [
           0,
           1
          ],
          "y": [
           0,
           1
          ]
         }
        },
        "legend": {
         "tracegroupgap": 0
        },
        "template": {
         "data": {
          "bar": [
           {
            "error_x": {
             "color": "#2a3f5f"
            },
            "error_y": {
             "color": "#2a3f5f"
            },
            "marker": {
             "line": {
              "color": "#E5ECF6",
              "width": 0.5
             },
             "pattern": {
              "fillmode": "overlay",
              "size": 10,
              "solidity": 0.2
             }
            },
            "type": "bar"
           }
          ],
          "barpolar": [
           {
            "marker": {
             "line": {
              "color": "#E5ECF6",
              "width": 0.5
             },
             "pattern": {
              "fillmode": "overlay",
              "size": 10,
              "solidity": 0.2
             }
            },
            "type": "barpolar"
           }
          ],
          "carpet": [
           {
            "aaxis": {
             "endlinecolor": "#2a3f5f",
             "gridcolor": "white",
             "linecolor": "white",
             "minorgridcolor": "white",
             "startlinecolor": "#2a3f5f"
            },
            "baxis": {
             "endlinecolor": "#2a3f5f",
             "gridcolor": "white",
             "linecolor": "white",
             "minorgridcolor": "white",
             "startlinecolor": "#2a3f5f"
            },
            "type": "carpet"
           }
          ],
          "choropleth": [
           {
            "colorbar": {
             "outlinewidth": 0,
             "ticks": ""
            },
            "type": "choropleth"
           }
          ],
          "contour": [
           {
            "colorbar": {
             "outlinewidth": 0,
             "ticks": ""
            },
            "colorscale": [
             [
              0,
              "#0d0887"
             ],
             [
              0.1111111111111111,
              "#46039f"
             ],
             [
              0.2222222222222222,
              "#7201a8"
             ],
             [
              0.3333333333333333,
              "#9c179e"
             ],
             [
              0.4444444444444444,
              "#bd3786"
             ],
             [
              0.5555555555555556,
              "#d8576b"
             ],
             [
              0.6666666666666666,
              "#ed7953"
             ],
             [
              0.7777777777777778,
              "#fb9f3a"
             ],
             [
              0.8888888888888888,
              "#fdca26"
             ],
             [
              1,
              "#f0f921"
             ]
            ],
            "type": "contour"
           }
          ],
          "contourcarpet": [
           {
            "colorbar": {
             "outlinewidth": 0,
             "ticks": ""
            },
            "type": "contourcarpet"
           }
          ],
          "heatmap": [
           {
            "colorbar": {
             "outlinewidth": 0,
             "ticks": ""
            },
            "colorscale": [
             [
              0,
              "#0d0887"
             ],
             [
              0.1111111111111111,
              "#46039f"
             ],
             [
              0.2222222222222222,
              "#7201a8"
             ],
             [
              0.3333333333333333,
              "#9c179e"
             ],
             [
              0.4444444444444444,
              "#bd3786"
             ],
             [
              0.5555555555555556,
              "#d8576b"
             ],
             [
              0.6666666666666666,
              "#ed7953"
             ],
             [
              0.7777777777777778,
              "#fb9f3a"
             ],
             [
              0.8888888888888888,
              "#fdca26"
             ],
             [
              1,
              "#f0f921"
             ]
            ],
            "type": "heatmap"
           }
          ],
          "heatmapgl": [
           {
            "colorbar": {
             "outlinewidth": 0,
             "ticks": ""
            },
            "colorscale": [
             [
              0,
              "#0d0887"
             ],
             [
              0.1111111111111111,
              "#46039f"
             ],
             [
              0.2222222222222222,
              "#7201a8"
             ],
             [
              0.3333333333333333,
              "#9c179e"
             ],
             [
              0.4444444444444444,
              "#bd3786"
             ],
             [
              0.5555555555555556,
              "#d8576b"
             ],
             [
              0.6666666666666666,
              "#ed7953"
             ],
             [
              0.7777777777777778,
              "#fb9f3a"
             ],
             [
              0.8888888888888888,
              "#fdca26"
             ],
             [
              1,
              "#f0f921"
             ]
            ],
            "type": "heatmapgl"
           }
          ],
          "histogram": [
           {
            "marker": {
             "pattern": {
              "fillmode": "overlay",
              "size": 10,
              "solidity": 0.2
             }
            },
            "type": "histogram"
           }
          ],
          "histogram2d": [
           {
            "colorbar": {
             "outlinewidth": 0,
             "ticks": ""
            },
            "colorscale": [
             [
              0,
              "#0d0887"
             ],
             [
              0.1111111111111111,
              "#46039f"
             ],
             [
              0.2222222222222222,
              "#7201a8"
             ],
             [
              0.3333333333333333,
              "#9c179e"
             ],
             [
              0.4444444444444444,
              "#bd3786"
             ],
             [
              0.5555555555555556,
              "#d8576b"
             ],
             [
              0.6666666666666666,
              "#ed7953"
             ],
             [
              0.7777777777777778,
              "#fb9f3a"
             ],
             [
              0.8888888888888888,
              "#fdca26"
             ],
             [
              1,
              "#f0f921"
             ]
            ],
            "type": "histogram2d"
           }
          ],
          "histogram2dcontour": [
           {
            "colorbar": {
             "outlinewidth": 0,
             "ticks": ""
            },
            "colorscale": [
             [
              0,
              "#0d0887"
             ],
             [
              0.1111111111111111,
              "#46039f"
             ],
             [
              0.2222222222222222,
              "#7201a8"
             ],
             [
              0.3333333333333333,
              "#9c179e"
             ],
             [
              0.4444444444444444,
              "#bd3786"
             ],
             [
              0.5555555555555556,
              "#d8576b"
             ],
             [
              0.6666666666666666,
              "#ed7953"
             ],
             [
              0.7777777777777778,
              "#fb9f3a"
             ],
             [
              0.8888888888888888,
              "#fdca26"
             ],
             [
              1,
              "#f0f921"
             ]
            ],
            "type": "histogram2dcontour"
           }
          ],
          "mesh3d": [
           {
            "colorbar": {
             "outlinewidth": 0,
             "ticks": ""
            },
            "type": "mesh3d"
           }
          ],
          "parcoords": [
           {
            "line": {
             "colorbar": {
              "outlinewidth": 0,
              "ticks": ""
             }
            },
            "type": "parcoords"
           }
          ],
          "pie": [
           {
            "automargin": true,
            "type": "pie"
           }
          ],
          "scatter": [
           {
            "fillpattern": {
             "fillmode": "overlay",
             "size": 10,
             "solidity": 0.2
            },
            "type": "scatter"
           }
          ],
          "scatter3d": [
           {
            "line": {
             "colorbar": {
              "outlinewidth": 0,
              "ticks": ""
             }
            },
            "marker": {
             "colorbar": {
              "outlinewidth": 0,
              "ticks": ""
             }
            },
            "type": "scatter3d"
           }
          ],
          "scattercarpet": [
           {
            "marker": {
             "colorbar": {
              "outlinewidth": 0,
              "ticks": ""
             }
            },
            "type": "scattercarpet"
           }
          ],
          "scattergeo": [
           {
            "marker": {
             "colorbar": {
              "outlinewidth": 0,
              "ticks": ""
             }
            },
            "type": "scattergeo"
           }
          ],
          "scattergl": [
           {
            "marker": {
             "colorbar": {
              "outlinewidth": 0,
              "ticks": ""
             }
            },
            "type": "scattergl"
           }
          ],
          "scattermapbox": [
           {
            "marker": {
             "colorbar": {
              "outlinewidth": 0,
              "ticks": ""
             }
            },
            "type": "scattermapbox"
           }
          ],
          "scatterpolar": [
           {
            "marker": {
             "colorbar": {
              "outlinewidth": 0,
              "ticks": ""
             }
            },
            "type": "scatterpolar"
           }
          ],
          "scatterpolargl": [
           {
            "marker": {
             "colorbar": {
              "outlinewidth": 0,
              "ticks": ""
             }
            },
            "type": "scatterpolargl"
           }
          ],
          "scatterternary": [
           {
            "marker": {
             "colorbar": {
              "outlinewidth": 0,
              "ticks": ""
             }
            },
            "type": "scatterternary"
           }
          ],
          "surface": [
           {
            "colorbar": {
             "outlinewidth": 0,
             "ticks": ""
            },
            "colorscale": [
             [
              0,
              "#0d0887"
             ],
             [
              0.1111111111111111,
              "#46039f"
             ],
             [
              0.2222222222222222,
              "#7201a8"
             ],
             [
              0.3333333333333333,
              "#9c179e"
             ],
             [
              0.4444444444444444,
              "#bd3786"
             ],
             [
              0.5555555555555556,
              "#d8576b"
             ],
             [
              0.6666666666666666,
              "#ed7953"
             ],
             [
              0.7777777777777778,
              "#fb9f3a"
             ],
             [
              0.8888888888888888,
              "#fdca26"
             ],
             [
              1,
              "#f0f921"
             ]
            ],
            "type": "surface"
           }
          ],
          "table": [
           {
            "cells": {
             "fill": {
              "color": "#EBF0F8"
             },
             "line": {
              "color": "white"
             }
            },
            "header": {
             "fill": {
              "color": "#C8D4E3"
             },
             "line": {
              "color": "white"
             }
            },
            "type": "table"
           }
          ]
         },
         "layout": {
          "annotationdefaults": {
           "arrowcolor": "#2a3f5f",
           "arrowhead": 0,
           "arrowwidth": 1
          },
          "autotypenumbers": "strict",
          "coloraxis": {
           "colorbar": {
            "outlinewidth": 0,
            "ticks": ""
           }
          },
          "colorscale": {
           "diverging": [
            [
             0,
             "#8e0152"
            ],
            [
             0.1,
             "#c51b7d"
            ],
            [
             0.2,
             "#de77ae"
            ],
            [
             0.3,
             "#f1b6da"
            ],
            [
             0.4,
             "#fde0ef"
            ],
            [
             0.5,
             "#f7f7f7"
            ],
            [
             0.6,
             "#e6f5d0"
            ],
            [
             0.7,
             "#b8e186"
            ],
            [
             0.8,
             "#7fbc41"
            ],
            [
             0.9,
             "#4d9221"
            ],
            [
             1,
             "#276419"
            ]
           ],
           "sequential": [
            [
             0,
             "#0d0887"
            ],
            [
             0.1111111111111111,
             "#46039f"
            ],
            [
             0.2222222222222222,
             "#7201a8"
            ],
            [
             0.3333333333333333,
             "#9c179e"
            ],
            [
             0.4444444444444444,
             "#bd3786"
            ],
            [
             0.5555555555555556,
             "#d8576b"
            ],
            [
             0.6666666666666666,
             "#ed7953"
            ],
            [
             0.7777777777777778,
             "#fb9f3a"
            ],
            [
             0.8888888888888888,
             "#fdca26"
            ],
            [
             1,
             "#f0f921"
            ]
           ],
           "sequentialminus": [
            [
             0,
             "#0d0887"
            ],
            [
             0.1111111111111111,
             "#46039f"
            ],
            [
             0.2222222222222222,
             "#7201a8"
            ],
            [
             0.3333333333333333,
             "#9c179e"
            ],
            [
             0.4444444444444444,
             "#bd3786"
            ],
            [
             0.5555555555555556,
             "#d8576b"
            ],
            [
             0.6666666666666666,
             "#ed7953"
            ],
            [
             0.7777777777777778,
             "#fb9f3a"
            ],
            [
             0.8888888888888888,
             "#fdca26"
            ],
            [
             1,
             "#f0f921"
            ]
           ]
          },
          "colorway": [
           "#636efa",
           "#EF553B",
           "#00cc96",
           "#ab63fa",
           "#FFA15A",
           "#19d3f3",
           "#FF6692",
           "#B6E880",
           "#FF97FF",
           "#FECB52"
          ],
          "font": {
           "color": "#2a3f5f"
          },
          "geo": {
           "bgcolor": "white",
           "lakecolor": "white",
           "landcolor": "#E5ECF6",
           "showlakes": true,
           "showland": true,
           "subunitcolor": "white"
          },
          "hoverlabel": {
           "align": "left"
          },
          "hovermode": "closest",
          "mapbox": {
           "style": "light"
          },
          "paper_bgcolor": "white",
          "plot_bgcolor": "#E5ECF6",
          "polar": {
           "angularaxis": {
            "gridcolor": "white",
            "linecolor": "white",
            "ticks": ""
           },
           "bgcolor": "#E5ECF6",
           "radialaxis": {
            "gridcolor": "white",
            "linecolor": "white",
            "ticks": ""
           }
          },
          "scene": {
           "xaxis": {
            "backgroundcolor": "#E5ECF6",
            "gridcolor": "white",
            "gridwidth": 2,
            "linecolor": "white",
            "showbackground": true,
            "ticks": "",
            "zerolinecolor": "white"
           },
           "yaxis": {
            "backgroundcolor": "#E5ECF6",
            "gridcolor": "white",
            "gridwidth": 2,
            "linecolor": "white",
            "showbackground": true,
            "ticks": "",
            "zerolinecolor": "white"
           },
           "zaxis": {
            "backgroundcolor": "#E5ECF6",
            "gridcolor": "white",
            "gridwidth": 2,
            "linecolor": "white",
            "showbackground": true,
            "ticks": "",
            "zerolinecolor": "white"
           }
          },
          "shapedefaults": {
           "line": {
            "color": "#2a3f5f"
           }
          },
          "ternary": {
           "aaxis": {
            "gridcolor": "white",
            "linecolor": "white",
            "ticks": ""
           },
           "baxis": {
            "gridcolor": "white",
            "linecolor": "white",
            "ticks": ""
           },
           "bgcolor": "#E5ECF6",
           "caxis": {
            "gridcolor": "white",
            "linecolor": "white",
            "ticks": ""
           }
          },
          "title": {
           "x": 0.05
          },
          "xaxis": {
           "automargin": true,
           "gridcolor": "white",
           "linecolor": "white",
           "ticks": "",
           "title": {
            "standoff": 15
           },
           "zerolinecolor": "white",
           "zerolinewidth": 2
          },
          "yaxis": {
           "automargin": true,
           "gridcolor": "white",
           "linecolor": "white",
           "ticks": "",
           "title": {
            "standoff": 15
           },
           "zerolinecolor": "white",
           "zerolinewidth": 2
          }
         }
        },
        "title": {
         "text": "Global Earthquakes"
        }
       }
      },
      "image/png": "[encoded data removed]"
     },
     "metadata": {},
     "output_type": "display_data"
    }
   ],
   "source": [
    "from pathlib import Path\n",
    "import json\n",
    "import plotly.express as px\n",
    "\n",
    "# Read data as a string and convert to a Python object.\n",
    "path = Path('eq_data/eq_data_1_day_m1.geojson')\n",
    "contents = path.read_text(encoding='utf-8')  # Specify the encoding as 'utf-8'\n",
    "all_eq_data = json.loads(contents)\n",
    "\n",
    "# Create a more readable version of the data file.\n",
    "path = Path('eq_data/readable_eq_data.geojson')\n",
    "readable_contents = json.dumps(all_eq_data, indent=4)\n",
    "path.write_text(readable_contents)\n",
    "\n",
    "# Examine all earthquakes in the dataset.\n",
    "all_eq_dicts = all_eq_data['features']\n",
    "mags, lons, lats = [], [], [] # empty lists for the magnitude, longitudes and latitudes\n",
    "\n",
    "# Extracting Magnitudes using loop\n",
    "for eq_dict in all_eq_dicts: # loop through the list all_eq_dicts. Inside this loop, each earthquake is represented by the dictionary eq_dict\n",
    "    mag = eq_dict['properties']['mag'] # Each earthquake’s magnitude is stored in the 'properties' section of this dictionary, under the key 'mag'\n",
    "    lon = eq_dict['geometry']['coordinates'][0]\n",
    "    lat = eq_dict['geometry']['coordinates'][1]\n",
    "    mags.append(mag) # store each magnitude in the variable mag and then append it to the list mags\n",
    "    lons.append(lon)\n",
    "    lats.append(lat)\n",
    "\n",
    "title = 'Global Earthquakes'\n",
    "fig = px.scatter_geo(lat=lats, lon=lons, title=title) # scatter_geo() function allows to overlay a scatterplot of geographic data on a map\n",
    "fig.show()"
   ]
  }
 ],
 "metadata": {
  "kernelspec": {
   "display_name": "Python 3 (ipykernel)",
   "language": "python",
   "name": "python3"
  },
  "language_info": {
   "codemirror_mode": {
    "name": "ipython",
    "version": 3
   },
   "file_extension": ".py",
   "mimetype": "text/x-python",
   "name": "python",
   "nbconvert_exporter": "python",
   "pygments_lexer": "ipython3",
   "version": "3.11.1"
  }
 },
 "nbformat": 4,
 "nbformat_minor": 4
}
