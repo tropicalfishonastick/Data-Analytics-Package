{
 "cells": [
  {
   "cell_type": "markdown",
   "metadata": {},
   "source": [
    "# Extracting and Reading Data"
   ]
  },
  {
   "cell_type": "markdown",
   "metadata": {},
   "source": [
    "Reading in the high temperature for each day: "
   ]
  },
  {
   "cell_type": "code",
   "execution_count": 3,
   "metadata": {},
   "outputs": [
    {
     "name": "stdout",
     "output_type": "stream",
     "text": [
      "[61, 60, 66, 60, 65, 59, 58, 58, 57, 60, 60, 60, 57, 58, 60, 61, 63, 63, 70, 64, 59, 63, 61, 58, 59, 64, 62, 70, 70, 73, 66]\n"
     ]
    }
   ],
   "source": [
    "from pathlib import Path\n",
    "import csv\n",
    "path = Path('weather_data/sitka_weather_07-2021_simple.csv')\n",
    "lines = path.read_text().splitlines()\n",
    "reader = csv.reader(lines)\n",
    "header_row = next(reader)\n",
    "\n",
    "# Extract high temperatures.\n",
    "highs = []\n",
    "for row in reader:\n",
    "    high = int(row[4])\n",
    "    highs.append(high)\n",
    "print(highs)"
   ]
  },
  {
   "cell_type": "markdown",
   "metadata": {},
   "source": [
    "### Creating an empty list: \n",
    "  Start by creating an empty list called \"highs.\"\n",
    "\n",
    "### Looping through the remaining rows: \n",
    "  Iterate through the remaining rows in the file. The reader object automatically continues from where it left off in the CSV file, returning each line one by one.\n",
    "\n",
    "### Extracting and storing high temperatures: \n",
    "  During each iteration of the loop, I retrieve the data from index 4, which corresponds to the \"TMAX\" header, and assign it to the variable \"high.\"\n",
    "\n",
    "### Converting data to a numerical format: \n",
    "  To ensure usability, I use the int() function to convert the data (which is initially stored as a string) into a numerical format.\n",
    "\n",
    "### Appending high temperatures: \n",
    "  Append this numerical value to the \"highs\" list."
   ]
  }
 ],
 "metadata": {
  "kernelspec": {
   "display_name": "Python 3 (ipykernel)",
   "language": "python",
   "name": "python3"
  },
  "language_info": {
   "codemirror_mode": {
    "name": "ipython",
    "version": 3
   },
   "file_extension": ".py",
   "mimetype": "text/x-python",
   "name": "python",
   "nbconvert_exporter": "python",
   "pygments_lexer": "ipython3",
   "version": "3.11.1"
  }
 },
 "nbformat": 4,
 "nbformat_minor": 4
}
