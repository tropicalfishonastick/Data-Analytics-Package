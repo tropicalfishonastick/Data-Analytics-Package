{
 "cells": [
  {
   "cell_type": "markdown",
   "metadata": {},
   "source": [
    "# Printing the Headers and Their Positions"
   ]
  },
  {
   "cell_type": "markdown",
   "metadata": {},
   "source": [
    "Using the enumerate() function, I'm obtaining both the index of each item and the value of each item as I loop through a list. (Note that the line print(header_row) has been removed in favor of this more detailed version.)"
   ]
  },
  {
   "cell_type": "code",
   "execution_count": 1,
   "metadata": {},
   "outputs": [
    {
     "name": "stdout",
     "output_type": "stream",
     "text": [
      "0 STATION\n",
      "1 NAME\n",
      "2 DATE\n",
      "3 TAVG\n",
      "4 TMAX\n",
      "5 TMIN\n"
     ]
    }
   ],
   "source": [
    "from pathlib import Path\n",
    "import csv\n",
    "path = Path('weather_data/sitka_weather_07-2021_simple.csv')\n",
    "lines = path.read_text().splitlines()\n",
    "reader = csv.reader(lines)\n",
    "header_row = next(reader)\n",
    "for index, column_header in enumerate(header_row):\n",
    "    print(index, column_header)"
   ]
  }
 ],
 "metadata": {
  "kernelspec": {
   "display_name": "Python 3 (ipykernel)",
   "language": "python",
   "name": "python3"
  },
  "language_info": {
   "codemirror_mode": {
    "name": "ipython",
    "version": 3
   },
   "file_extension": ".py",
   "mimetype": "text/x-python",
   "name": "python",
   "nbconvert_exporter": "python",
   "pygments_lexer": "ipython3",
   "version": "3.11.1"
  }
 },
 "nbformat": 4,
 "nbformat_minor": 4
}
