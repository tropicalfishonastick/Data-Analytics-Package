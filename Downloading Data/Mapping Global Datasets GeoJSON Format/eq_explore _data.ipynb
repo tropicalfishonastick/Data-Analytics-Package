{
 "cells": [
  {
   "cell_type": "code",
   "execution_count": 17,
   "metadata": {},
   "outputs": [
    {
     "data": {
      "text/plain": [
       "223652"
      ]
     },
     "execution_count": 17,
     "metadata": {},
     "output_type": "execute_result"
    }
   ],
   "source": [
    "from pathlib import Path\n",
    "import json\n",
    "\n",
    "# Read data as a string and convert to a Python object.\n",
    "path = Path('eq_data/eq_data_1_day_m1.geojson')\n",
    "contents = path.read_text(encoding='utf-8')  # Specify the encoding as 'utf-8'\n",
    "all_eq_data = json.loads(contents)\n",
    "\n",
    "# Create a more readable version of the data file.\n",
    "path = Path('eq_data/readable_eq_data.geojson')\n",
    "readable_contents = json.dumps(all_eq_data, indent=4)\n",
    "path.write_text(readable_contents)"
   ]
  },
  {
   "cell_type": "markdown",
   "metadata": {},
   "source": [
    "I read the data file as a string and used json.loads() to convert the string representation of the file into a Python object. In this case, the entire dataset was converted into a single dictionary, which I assigned to the variable all_eq_data.\n",
    "\n",
    "I then defined a new path where I could write this same data in a more readable format. The json.dumps() function can take an optional indent argument, which allow to specify how much to indent nested elements in the data structure."
   ]
  },
  {
   "cell_type": "markdown",
   "metadata": {},
   "source": [
    "In the first part of the geoJSON file, I noticed a section with the key \"metadata.\" This section provides valuable information about the dataset, including details such as when the data file was generated, where to find the data online, a human-readable title, and the number of earthquakes included in the file. In this 24-hour period, there were 160 recorded earthquakes.\n",
    "\n",
    "The structure of this GeoJSON file is well-suited for location-based data. The earthquake information is stored within a list associated with the key \"features.\" Since this file contains earthquake data, each earthquake entry is represented as an item within this list. At first glance, this structure might seem complex, but it's actually quite powerful. It allows geologists to store a wealth of information about each earthquake in the form of dictionaries, and then organize all of these earthquake dictionaries into one comprehensive list. This design makes it efficient to work with and analyze large sets of geospatial data."
   ]
  },
  {
   "cell_type": "markdown",
   "metadata": {},
   "source": [
    "In this GeoJSON file, I can see that the \"properties\" key contains a lot of information about each earthquake. However, my main interests are focused on two key pieces of data:\n",
    "\n",
    "1. Magnitude: I'm primarily interested in the magnitude of each earthquake, which is associated with the \"mag\" key. This value informs me about the power of each earthquake event.\n",
    "\n",
    "2. Title: The \"title\" key provides a concise summary of each earthquake's magnitude and location. It serves as a useful human-readable description of each event.\n",
    "\n",
    "To understand where each earthquake occurred, I look to the \"geometry\" key. This key is crucial for mapping each event's location. Inside the \"geometry\" key, I can find the longitude and latitude for each earthquake in a list associated with the \"coordinates\" key.\n",
    "\n",
    "While this GeoJSON file has a nested structure that might appear complex, I'm not too concerned because Python can handle most of the complexity for me. I'll generally focus on one or two nesting levels at a time as I work with this data.\n",
    "\n",
    "It's worth noting that when discussing locations, the convention is typically to mention latitude first, followed by longitude. However, the GeoJSON format follows the (longitude, latitude) convention. This order can seem counterintuitive, but it aligns with the (x, y) convention used in mathematical representations. It's important to be aware of the convention used by the framework or data source I'm working with.\n",
    "\n",
    "For my analysis, I'll begin by extracting a dictionary for each earthquake recorded in the 24-hour time period. Then, I'll proceed with my data exploration and visualization."
   ]
  },
  {
   "cell_type": "markdown",
   "metadata": {},
   "source": [
    "### Making a List of All Earthquakes, Extracting Magnitudes using loop & Extracting Location Data"
   ]
  },
  {
   "cell_type": "code",
   "execution_count": 18,
   "metadata": {},
   "outputs": [
    {
     "name": "stdout",
     "output_type": "stream",
     "text": [
      "[1.6, 1.6, 2.2, 3.7, 2.92000008, 1.4, 4.6, 4.5, 1.9, 1.8]\n",
      "[-150.7585, -153.4716, -148.7531, -159.6267, -155.248336791992, -149.173, 22.0768, 129.5079, -150.5896, -145.9089]\n",
      "[61.7591, 59.3152, 63.1633, 54.5612, 18.7551670074463, 62.3994, 36.3592, -6.686, 62.9779, 63.671]\n",
      "160\n"
     ]
    }
   ],
   "source": [
    "# Examine all earthquakes in the dataset.\n",
    "all_eq_dicts = all_eq_data['features']\n",
    "mags, lons, lats = [], [], [] # empty lists for the magnitude, longitudes and latitudes\n",
    "\n",
    "# Extracting Magnitudes using loop\n",
    "for eq_dict in all_eq_dicts: # loop through the list all_eq_dicts. Inside this loop, each earthquake is represented by the dictionary eq_dict\n",
    "    mag = eq_dict['properties']['mag'] # Each earthquake’s magnitude is stored in the 'properties' section of this dictionary, under the key 'mag'\n",
    "    lon = eq_dict['geometry']['coordinates'][0]\n",
    "    lat = eq_dict['geometry']['coordinates'][1]\n",
    "    mags.append(mag) # store each magnitude in the variable mag and then append it to the list mags\n",
    "    lons.append(lon)\n",
    "    lats.append(lat)\n",
    "\n",
    "print(mags[:10]) # print the first 10 magnitudes\n",
    "print(lons[:10])\n",
    "print(lats[:10])\n",
    "print(len(all_eq_dicts))"
   ]
  }
 ],
 "metadata": {
  "kernelspec": {
   "display_name": "Python 3",
   "language": "python",
   "name": "python3"
  },
  "language_info": {
   "codemirror_mode": {
    "name": "ipython",
    "version": 3
   },
   "file_extension": ".py",
   "mimetype": "text/x-python",
   "name": "python",
   "nbconvert_exporter": "python",
   "pygments_lexer": "ipython3",
   "version": "3.11.1"
  },
  "orig_nbformat": 4
 },
 "nbformat": 4,
 "nbformat_minor": 2
}
