{
 "cells": [
  {
   "cell_type": "markdown",
   "metadata": {},
   "source": [
    "# Parsing the CSV File Headers\n",
    "I'll start by examining the first line of the file, which contains a series of headers for the data. These headers tell me what kind of information the data holds, and Python's csv module in the standard library will help me quickly extract the values I'm interested in."
   ]
  },
  {
   "cell_type": "markdown",
   "metadata": {},
   "source": [
    "## The steps I followed:\n",
    "\n",
    "    Importing the Path and the csv module.\n",
    "\n",
    "    Building a Path object that looks in the weather_data folder and points to the specific weather data file I want to work with.\n",
    "\n",
    "    Reading the file and chain the splitlines() method to get a list of all lines in the file.\n",
    "\n",
    "    Assigning this list of lines to a variable called lines."
   ]
  },
  {
   "cell_type": "markdown",
   "metadata": {},
   "source": [
    "## Building a reader object: \n",
    "I create a reader object using the csv.reader() function. This object allows me to parse each line in the file effectively.\n",
    "\n",
    "## Parsing with a reader object: \n",
    "By calling next() on the reader object, I retrieve the next line in the file, starting from the beginning. In this case, I call next() only once, which provides me with the first line of the file. This line contains the file headers.\n",
    "\n",
    "## Assigning header information: \n",
    "I assign the data returned by next() to a variable called header_row. This header_row contains meaningful and weather-related headers, providing valuable information about the data held in each line."
   ]
  },
  {
   "cell_type": "code",
   "execution_count": 1,
   "metadata": {},
   "outputs": [
    {
     "name": "stdout",
     "output_type": "stream",
     "text": [
      "['STATION', 'NAME', 'DATE', 'TAVG', 'TMAX', 'TMIN']\n"
     ]
    }
   ],
   "source": [
    "from pathlib import Path\n",
    "import csv\n",
    "path = Path('weather_data/sitka_weather_07-2021_simple.csv')\n",
    "lines = path.read_text().splitlines()\n",
    "reader = csv.reader(lines)\n",
    "header_row = next(reader)\n",
    "print(header_row)"
   ]
  },
  {
   "cell_type": "markdown",
   "metadata": {},
   "source": [
    "Processing the first line of comma-separated values in the file, the reader object stores each value as an item in a list. The header \"STATION\" represents the code for the weather station that recorded this data, and its position in the list indicates that the first value in each line corresponds to the weather station code. The \"NAME\" header signifies that the second value in each line represents the name of the weather station responsible for the recording. The remaining headers specify the types of information recorded in each reading.\n",
    "\n",
    "For now, I am particularly interested in the date (DATE), the high temperature (TMAX), and the low temperature (TMIN). This dataset is straightforward, containing only temperature-related data."
   ]
  },
  {
   "cell_type": "markdown",
   "metadata": {},
   "source": []
  }
 ],
 "metadata": {
  "kernelspec": {
   "display_name": "Python 3 (ipykernel)",
   "language": "python",
   "name": "python3"
  },
  "language_info": {
   "codemirror_mode": {
    "name": "ipython",
    "version": 3
   },
   "file_extension": ".py",
   "mimetype": "text/x-python",
   "name": "python",
   "nbconvert_exporter": "python",
   "pygments_lexer": "ipython3",
   "version": "3.11.1"
  }
 },
 "nbformat": 4,
 "nbformat_minor": 4
}
