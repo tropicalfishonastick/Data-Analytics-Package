{
 "cells": [
  {
   "cell_type": "code",
   "execution_count": 1,
   "metadata": {},
   "outputs": [
    {
     "name": "stdout",
     "output_type": "stream",
     "text": [
      "Status code: 200\n",
      "{\n",
      "    \"by\": \"sohkamyung\",\n",
      "    \"descendants\": 307,\n",
      "    \"id\": 31353677,\n",
      "    \"kids\": [\n",
      "        31354987,\n",
      "        31354235,\n",
      "        31354040,\n",
      "        31358602,\n",
      "        31354201,\n",
      "        31354991,\n",
      "        31354315,\n",
      "        31353775,\n",
      "        31353925,\n",
      "        31354169,\n",
      "        31354273,\n",
      "        31354437,\n",
      "        31356902,\n",
      "        31358694,\n",
      "        31363418,\n",
      "        31353862,\n",
      "        31357186,\n",
      "        31356379,\n",
      "        31356826,\n",
      "        31355085,\n",
      "        31369435,\n",
      "        31357936,\n",
      "        31354142,\n",
      "        31354213,\n",
      "        31356311,\n",
      "        31357865,\n",
      "        31353929,\n",
      "        31364954,\n",
      "        31354621,\n",
      "        31356002,\n",
      "        31356407,\n",
      "        31355491,\n",
      "        31359235,\n",
      "        31356053,\n",
      "        31354347,\n",
      "        31355326,\n",
      "        31354703,\n",
      "        31353802\n",
      "    ],\n",
      "    \"score\": 786,\n",
      "    \"time\": 1652361401,\n",
      "    \"title\": \"Astronomers reveal first image of the black hole at the heart of our galaxy\",\n",
      "    \"type\": \"story\",\n",
      "    \"url\": \"https://public.nrao.edu/news/astronomers-reveal-first-image-of-the-black-hole-at-the-heart-of-our-galaxy/\"\n",
      "}\n"
     ]
    }
   ],
   "source": [
    "import requests\n",
    "import json\n",
    "# Make an API call, and store the response.\n",
    "url = \"https://hacker-news.firebaseio.com/v0/item/31353677.json\"\n",
    "r = requests.get(url)\n",
    "print(f\"Status code: {r.status_code}\")\n",
    "# Explore the structure of the data.\n",
    "response_dict = r.json()\n",
    "response_string = json.dumps(response_dict, indent=4)\n",
    "print(response_string)"
   ]
  }
 ],
 "metadata": {
  "kernelspec": {
   "display_name": "Python 3",
   "language": "python",
   "name": "python3"
  },
  "language_info": {
   "codemirror_mode": {
    "name": "ipython",
    "version": 3
   },
   "file_extension": ".py",
   "mimetype": "text/x-python",
   "name": "python",
   "nbconvert_exporter": "python",
   "pygments_lexer": "ipython3",
   "version": "3.11.1"
  },
  "orig_nbformat": 4
 },
 "nbformat": 4,
 "nbformat_minor": 2
}
